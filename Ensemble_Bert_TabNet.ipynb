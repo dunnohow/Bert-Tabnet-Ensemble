{
  "nbformat": 4,
  "nbformat_minor": 0,
  "metadata": {
    "kernelspec": {
      "display_name": "Python 3",
      "language": "python",
      "name": "python3"
    },
    "language_info": {
      "codemirror_mode": {
        "name": "ipython",
        "version": 3
      },
      "file_extension": ".py",
      "mimetype": "text/x-python",
      "name": "python",
      "nbconvert_exporter": "python",
      "pygments_lexer": "ipython3",
      "version": "3.8.6"
    },
    "colab": {
      "name": "Ensemble Bert TabNet.ipynb",
      "provenance": [],
      "collapsed_sections": [
        "-s35a9_Yj-jw"
      ]
    },
    "widgets": {
      "application/vnd.jupyter.widget-state+json": {
        "d70d8a52adad47d5a3b3f89c9e34558a": {
          "model_module": "@jupyter-widgets/controls",
          "model_name": "HBoxModel",
          "state": {
            "_view_name": "HBoxView",
            "_dom_classes": [],
            "_model_name": "HBoxModel",
            "_view_module": "@jupyter-widgets/controls",
            "_model_module_version": "1.5.0",
            "_view_count": null,
            "_view_module_version": "1.5.0",
            "box_style": "",
            "layout": "IPY_MODEL_9f2bf350d58f47eeb1477c44b1f07a57",
            "_model_module": "@jupyter-widgets/controls",
            "children": [
              "IPY_MODEL_5d336f75f8eb436fb8a49d9f631151ba",
              "IPY_MODEL_4a453ebee6e6497e90d159c2c4e85d4d"
            ]
          }
        },
        "9f2bf350d58f47eeb1477c44b1f07a57": {
          "model_module": "@jupyter-widgets/base",
          "model_name": "LayoutModel",
          "state": {
            "_view_name": "LayoutView",
            "grid_template_rows": null,
            "right": null,
            "justify_content": null,
            "_view_module": "@jupyter-widgets/base",
            "overflow": null,
            "_model_module_version": "1.2.0",
            "_view_count": null,
            "flex_flow": null,
            "width": null,
            "min_width": null,
            "border": null,
            "align_items": null,
            "bottom": null,
            "_model_module": "@jupyter-widgets/base",
            "top": null,
            "grid_column": null,
            "overflow_y": null,
            "overflow_x": null,
            "grid_auto_flow": null,
            "grid_area": null,
            "grid_template_columns": null,
            "flex": null,
            "_model_name": "LayoutModel",
            "justify_items": null,
            "grid_row": null,
            "max_height": null,
            "align_content": null,
            "visibility": null,
            "align_self": null,
            "height": null,
            "min_height": null,
            "padding": null,
            "grid_auto_rows": null,
            "grid_gap": null,
            "max_width": null,
            "order": null,
            "_view_module_version": "1.2.0",
            "grid_template_areas": null,
            "object_position": null,
            "object_fit": null,
            "grid_auto_columns": null,
            "margin": null,
            "display": null,
            "left": null
          }
        },
        "5d336f75f8eb436fb8a49d9f631151ba": {
          "model_module": "@jupyter-widgets/controls",
          "model_name": "FloatProgressModel",
          "state": {
            "_view_name": "ProgressView",
            "style": "IPY_MODEL_f185771e27644f91b366c4a1759bf6eb",
            "_dom_classes": [],
            "description": "Downloading: 100%",
            "_model_name": "FloatProgressModel",
            "bar_style": "success",
            "max": 995526,
            "_view_module": "@jupyter-widgets/controls",
            "_model_module_version": "1.5.0",
            "value": 995526,
            "_view_count": null,
            "_view_module_version": "1.5.0",
            "orientation": "horizontal",
            "min": 0,
            "description_tooltip": null,
            "_model_module": "@jupyter-widgets/controls",
            "layout": "IPY_MODEL_0d781b6c397444419b7d87286a01fd6d"
          }
        },
        "4a453ebee6e6497e90d159c2c4e85d4d": {
          "model_module": "@jupyter-widgets/controls",
          "model_name": "HTMLModel",
          "state": {
            "_view_name": "HTMLView",
            "style": "IPY_MODEL_37d18d85949b4f4ca453ac00ea5b9191",
            "_dom_classes": [],
            "description": "",
            "_model_name": "HTMLModel",
            "placeholder": "​",
            "_view_module": "@jupyter-widgets/controls",
            "_model_module_version": "1.5.0",
            "value": " 996k/996k [00:00&lt;00:00, 3.94MB/s]",
            "_view_count": null,
            "_view_module_version": "1.5.0",
            "description_tooltip": null,
            "_model_module": "@jupyter-widgets/controls",
            "layout": "IPY_MODEL_4739997379f1466eb1dda8331889b9ab"
          }
        },
        "f185771e27644f91b366c4a1759bf6eb": {
          "model_module": "@jupyter-widgets/controls",
          "model_name": "ProgressStyleModel",
          "state": {
            "_view_name": "StyleView",
            "_model_name": "ProgressStyleModel",
            "description_width": "initial",
            "_view_module": "@jupyter-widgets/base",
            "_model_module_version": "1.5.0",
            "_view_count": null,
            "_view_module_version": "1.2.0",
            "bar_color": null,
            "_model_module": "@jupyter-widgets/controls"
          }
        },
        "0d781b6c397444419b7d87286a01fd6d": {
          "model_module": "@jupyter-widgets/base",
          "model_name": "LayoutModel",
          "state": {
            "_view_name": "LayoutView",
            "grid_template_rows": null,
            "right": null,
            "justify_content": null,
            "_view_module": "@jupyter-widgets/base",
            "overflow": null,
            "_model_module_version": "1.2.0",
            "_view_count": null,
            "flex_flow": null,
            "width": null,
            "min_width": null,
            "border": null,
            "align_items": null,
            "bottom": null,
            "_model_module": "@jupyter-widgets/base",
            "top": null,
            "grid_column": null,
            "overflow_y": null,
            "overflow_x": null,
            "grid_auto_flow": null,
            "grid_area": null,
            "grid_template_columns": null,
            "flex": null,
            "_model_name": "LayoutModel",
            "justify_items": null,
            "grid_row": null,
            "max_height": null,
            "align_content": null,
            "visibility": null,
            "align_self": null,
            "height": null,
            "min_height": null,
            "padding": null,
            "grid_auto_rows": null,
            "grid_gap": null,
            "max_width": null,
            "order": null,
            "_view_module_version": "1.2.0",
            "grid_template_areas": null,
            "object_position": null,
            "object_fit": null,
            "grid_auto_columns": null,
            "margin": null,
            "display": null,
            "left": null
          }
        },
        "37d18d85949b4f4ca453ac00ea5b9191": {
          "model_module": "@jupyter-widgets/controls",
          "model_name": "DescriptionStyleModel",
          "state": {
            "_view_name": "StyleView",
            "_model_name": "DescriptionStyleModel",
            "description_width": "",
            "_view_module": "@jupyter-widgets/base",
            "_model_module_version": "1.5.0",
            "_view_count": null,
            "_view_module_version": "1.2.0",
            "_model_module": "@jupyter-widgets/controls"
          }
        },
        "4739997379f1466eb1dda8331889b9ab": {
          "model_module": "@jupyter-widgets/base",
          "model_name": "LayoutModel",
          "state": {
            "_view_name": "LayoutView",
            "grid_template_rows": null,
            "right": null,
            "justify_content": null,
            "_view_module": "@jupyter-widgets/base",
            "overflow": null,
            "_model_module_version": "1.2.0",
            "_view_count": null,
            "flex_flow": null,
            "width": null,
            "min_width": null,
            "border": null,
            "align_items": null,
            "bottom": null,
            "_model_module": "@jupyter-widgets/base",
            "top": null,
            "grid_column": null,
            "overflow_y": null,
            "overflow_x": null,
            "grid_auto_flow": null,
            "grid_area": null,
            "grid_template_columns": null,
            "flex": null,
            "_model_name": "LayoutModel",
            "justify_items": null,
            "grid_row": null,
            "max_height": null,
            "align_content": null,
            "visibility": null,
            "align_self": null,
            "height": null,
            "min_height": null,
            "padding": null,
            "grid_auto_rows": null,
            "grid_gap": null,
            "max_width": null,
            "order": null,
            "_view_module_version": "1.2.0",
            "grid_template_areas": null,
            "object_position": null,
            "object_fit": null,
            "grid_auto_columns": null,
            "margin": null,
            "display": null,
            "left": null
          }
        },
        "3cb35f00993b4e7ea974df5b87372fc9": {
          "model_module": "@jupyter-widgets/controls",
          "model_name": "HBoxModel",
          "state": {
            "_view_name": "HBoxView",
            "_dom_classes": [],
            "_model_name": "HBoxModel",
            "_view_module": "@jupyter-widgets/controls",
            "_model_module_version": "1.5.0",
            "_view_count": null,
            "_view_module_version": "1.5.0",
            "box_style": "",
            "layout": "IPY_MODEL_cce70d19cf2a414693ca991e5ae8f61a",
            "_model_module": "@jupyter-widgets/controls",
            "children": [
              "IPY_MODEL_185a372f56154c41a2a1e5cb0697654d",
              "IPY_MODEL_5f570110da87463eab9cab68fc0fca18"
            ]
          }
        },
        "cce70d19cf2a414693ca991e5ae8f61a": {
          "model_module": "@jupyter-widgets/base",
          "model_name": "LayoutModel",
          "state": {
            "_view_name": "LayoutView",
            "grid_template_rows": null,
            "right": null,
            "justify_content": null,
            "_view_module": "@jupyter-widgets/base",
            "overflow": null,
            "_model_module_version": "1.2.0",
            "_view_count": null,
            "flex_flow": null,
            "width": null,
            "min_width": null,
            "border": null,
            "align_items": null,
            "bottom": null,
            "_model_module": "@jupyter-widgets/base",
            "top": null,
            "grid_column": null,
            "overflow_y": null,
            "overflow_x": null,
            "grid_auto_flow": null,
            "grid_area": null,
            "grid_template_columns": null,
            "flex": null,
            "_model_name": "LayoutModel",
            "justify_items": null,
            "grid_row": null,
            "max_height": null,
            "align_content": null,
            "visibility": null,
            "align_self": null,
            "height": null,
            "min_height": null,
            "padding": null,
            "grid_auto_rows": null,
            "grid_gap": null,
            "max_width": null,
            "order": null,
            "_view_module_version": "1.2.0",
            "grid_template_areas": null,
            "object_position": null,
            "object_fit": null,
            "grid_auto_columns": null,
            "margin": null,
            "display": null,
            "left": null
          }
        },
        "185a372f56154c41a2a1e5cb0697654d": {
          "model_module": "@jupyter-widgets/controls",
          "model_name": "FloatProgressModel",
          "state": {
            "_view_name": "ProgressView",
            "style": "IPY_MODEL_164949e5b3f24977bf83f3a7cb64000b",
            "_dom_classes": [],
            "description": "Downloading: 100%",
            "_model_name": "FloatProgressModel",
            "bar_style": "success",
            "max": 29,
            "_view_module": "@jupyter-widgets/controls",
            "_model_module_version": "1.5.0",
            "value": 29,
            "_view_count": null,
            "_view_module_version": "1.5.0",
            "orientation": "horizontal",
            "min": 0,
            "description_tooltip": null,
            "_model_module": "@jupyter-widgets/controls",
            "layout": "IPY_MODEL_0711d00e77a7495cb392d79eb0cf13fc"
          }
        },
        "5f570110da87463eab9cab68fc0fca18": {
          "model_module": "@jupyter-widgets/controls",
          "model_name": "HTMLModel",
          "state": {
            "_view_name": "HTMLView",
            "style": "IPY_MODEL_d751c5c78b86489896237439af438440",
            "_dom_classes": [],
            "description": "",
            "_model_name": "HTMLModel",
            "placeholder": "​",
            "_view_module": "@jupyter-widgets/controls",
            "_model_module_version": "1.5.0",
            "value": " 29.0/29.0 [00:01&lt;00:00, 27.7B/s]",
            "_view_count": null,
            "_view_module_version": "1.5.0",
            "description_tooltip": null,
            "_model_module": "@jupyter-widgets/controls",
            "layout": "IPY_MODEL_a90ec6ea500a4789aedb279e12db27db"
          }
        },
        "164949e5b3f24977bf83f3a7cb64000b": {
          "model_module": "@jupyter-widgets/controls",
          "model_name": "ProgressStyleModel",
          "state": {
            "_view_name": "StyleView",
            "_model_name": "ProgressStyleModel",
            "description_width": "initial",
            "_view_module": "@jupyter-widgets/base",
            "_model_module_version": "1.5.0",
            "_view_count": null,
            "_view_module_version": "1.2.0",
            "bar_color": null,
            "_model_module": "@jupyter-widgets/controls"
          }
        },
        "0711d00e77a7495cb392d79eb0cf13fc": {
          "model_module": "@jupyter-widgets/base",
          "model_name": "LayoutModel",
          "state": {
            "_view_name": "LayoutView",
            "grid_template_rows": null,
            "right": null,
            "justify_content": null,
            "_view_module": "@jupyter-widgets/base",
            "overflow": null,
            "_model_module_version": "1.2.0",
            "_view_count": null,
            "flex_flow": null,
            "width": null,
            "min_width": null,
            "border": null,
            "align_items": null,
            "bottom": null,
            "_model_module": "@jupyter-widgets/base",
            "top": null,
            "grid_column": null,
            "overflow_y": null,
            "overflow_x": null,
            "grid_auto_flow": null,
            "grid_area": null,
            "grid_template_columns": null,
            "flex": null,
            "_model_name": "LayoutModel",
            "justify_items": null,
            "grid_row": null,
            "max_height": null,
            "align_content": null,
            "visibility": null,
            "align_self": null,
            "height": null,
            "min_height": null,
            "padding": null,
            "grid_auto_rows": null,
            "grid_gap": null,
            "max_width": null,
            "order": null,
            "_view_module_version": "1.2.0",
            "grid_template_areas": null,
            "object_position": null,
            "object_fit": null,
            "grid_auto_columns": null,
            "margin": null,
            "display": null,
            "left": null
          }
        },
        "d751c5c78b86489896237439af438440": {
          "model_module": "@jupyter-widgets/controls",
          "model_name": "DescriptionStyleModel",
          "state": {
            "_view_name": "StyleView",
            "_model_name": "DescriptionStyleModel",
            "description_width": "",
            "_view_module": "@jupyter-widgets/base",
            "_model_module_version": "1.5.0",
            "_view_count": null,
            "_view_module_version": "1.2.0",
            "_model_module": "@jupyter-widgets/controls"
          }
        },
        "a90ec6ea500a4789aedb279e12db27db": {
          "model_module": "@jupyter-widgets/base",
          "model_name": "LayoutModel",
          "state": {
            "_view_name": "LayoutView",
            "grid_template_rows": null,
            "right": null,
            "justify_content": null,
            "_view_module": "@jupyter-widgets/base",
            "overflow": null,
            "_model_module_version": "1.2.0",
            "_view_count": null,
            "flex_flow": null,
            "width": null,
            "min_width": null,
            "border": null,
            "align_items": null,
            "bottom": null,
            "_model_module": "@jupyter-widgets/base",
            "top": null,
            "grid_column": null,
            "overflow_y": null,
            "overflow_x": null,
            "grid_auto_flow": null,
            "grid_area": null,
            "grid_template_columns": null,
            "flex": null,
            "_model_name": "LayoutModel",
            "justify_items": null,
            "grid_row": null,
            "max_height": null,
            "align_content": null,
            "visibility": null,
            "align_self": null,
            "height": null,
            "min_height": null,
            "padding": null,
            "grid_auto_rows": null,
            "grid_gap": null,
            "max_width": null,
            "order": null,
            "_view_module_version": "1.2.0",
            "grid_template_areas": null,
            "object_position": null,
            "object_fit": null,
            "grid_auto_columns": null,
            "margin": null,
            "display": null,
            "left": null
          }
        },
        "f0c804c6c8df42d0ab60783654cb6230": {
          "model_module": "@jupyter-widgets/controls",
          "model_name": "HBoxModel",
          "state": {
            "_view_name": "HBoxView",
            "_dom_classes": [],
            "_model_name": "HBoxModel",
            "_view_module": "@jupyter-widgets/controls",
            "_model_module_version": "1.5.0",
            "_view_count": null,
            "_view_module_version": "1.5.0",
            "box_style": "",
            "layout": "IPY_MODEL_56a81c32cf7341a7ae3b04f9afa07b56",
            "_model_module": "@jupyter-widgets/controls",
            "children": [
              "IPY_MODEL_0ea4e7c3d93f411fb9aea439fe0f80c4",
              "IPY_MODEL_b4db7a069bef45c7a7114526b0ab6f91"
            ]
          }
        },
        "56a81c32cf7341a7ae3b04f9afa07b56": {
          "model_module": "@jupyter-widgets/base",
          "model_name": "LayoutModel",
          "state": {
            "_view_name": "LayoutView",
            "grid_template_rows": null,
            "right": null,
            "justify_content": null,
            "_view_module": "@jupyter-widgets/base",
            "overflow": null,
            "_model_module_version": "1.2.0",
            "_view_count": null,
            "flex_flow": null,
            "width": null,
            "min_width": null,
            "border": null,
            "align_items": null,
            "bottom": null,
            "_model_module": "@jupyter-widgets/base",
            "top": null,
            "grid_column": null,
            "overflow_y": null,
            "overflow_x": null,
            "grid_auto_flow": null,
            "grid_area": null,
            "grid_template_columns": null,
            "flex": null,
            "_model_name": "LayoutModel",
            "justify_items": null,
            "grid_row": null,
            "max_height": null,
            "align_content": null,
            "visibility": null,
            "align_self": null,
            "height": null,
            "min_height": null,
            "padding": null,
            "grid_auto_rows": null,
            "grid_gap": null,
            "max_width": null,
            "order": null,
            "_view_module_version": "1.2.0",
            "grid_template_areas": null,
            "object_position": null,
            "object_fit": null,
            "grid_auto_columns": null,
            "margin": null,
            "display": null,
            "left": null
          }
        },
        "0ea4e7c3d93f411fb9aea439fe0f80c4": {
          "model_module": "@jupyter-widgets/controls",
          "model_name": "FloatProgressModel",
          "state": {
            "_view_name": "ProgressView",
            "style": "IPY_MODEL_b81f2f28f6a74b4ab147857bd0a69a35",
            "_dom_classes": [],
            "description": "Downloading: 100%",
            "_model_name": "FloatProgressModel",
            "bar_style": "success",
            "max": 1961828,
            "_view_module": "@jupyter-widgets/controls",
            "_model_module_version": "1.5.0",
            "value": 1961828,
            "_view_count": null,
            "_view_module_version": "1.5.0",
            "orientation": "horizontal",
            "min": 0,
            "description_tooltip": null,
            "_model_module": "@jupyter-widgets/controls",
            "layout": "IPY_MODEL_f907471cd81d4e1190ad79655847223e"
          }
        },
        "b4db7a069bef45c7a7114526b0ab6f91": {
          "model_module": "@jupyter-widgets/controls",
          "model_name": "HTMLModel",
          "state": {
            "_view_name": "HTMLView",
            "style": "IPY_MODEL_c7d0a8f7b0e3418eb7d6c211110d415c",
            "_dom_classes": [],
            "description": "",
            "_model_name": "HTMLModel",
            "placeholder": "​",
            "_view_module": "@jupyter-widgets/controls",
            "_model_module_version": "1.5.0",
            "value": " 1.96M/1.96M [00:00&lt;00:00, 4.82MB/s]",
            "_view_count": null,
            "_view_module_version": "1.5.0",
            "description_tooltip": null,
            "_model_module": "@jupyter-widgets/controls",
            "layout": "IPY_MODEL_2457cc5710aa4a2696b423e4c5a483b9"
          }
        },
        "b81f2f28f6a74b4ab147857bd0a69a35": {
          "model_module": "@jupyter-widgets/controls",
          "model_name": "ProgressStyleModel",
          "state": {
            "_view_name": "StyleView",
            "_model_name": "ProgressStyleModel",
            "description_width": "initial",
            "_view_module": "@jupyter-widgets/base",
            "_model_module_version": "1.5.0",
            "_view_count": null,
            "_view_module_version": "1.2.0",
            "bar_color": null,
            "_model_module": "@jupyter-widgets/controls"
          }
        },
        "f907471cd81d4e1190ad79655847223e": {
          "model_module": "@jupyter-widgets/base",
          "model_name": "LayoutModel",
          "state": {
            "_view_name": "LayoutView",
            "grid_template_rows": null,
            "right": null,
            "justify_content": null,
            "_view_module": "@jupyter-widgets/base",
            "overflow": null,
            "_model_module_version": "1.2.0",
            "_view_count": null,
            "flex_flow": null,
            "width": null,
            "min_width": null,
            "border": null,
            "align_items": null,
            "bottom": null,
            "_model_module": "@jupyter-widgets/base",
            "top": null,
            "grid_column": null,
            "overflow_y": null,
            "overflow_x": null,
            "grid_auto_flow": null,
            "grid_area": null,
            "grid_template_columns": null,
            "flex": null,
            "_model_name": "LayoutModel",
            "justify_items": null,
            "grid_row": null,
            "max_height": null,
            "align_content": null,
            "visibility": null,
            "align_self": null,
            "height": null,
            "min_height": null,
            "padding": null,
            "grid_auto_rows": null,
            "grid_gap": null,
            "max_width": null,
            "order": null,
            "_view_module_version": "1.2.0",
            "grid_template_areas": null,
            "object_position": null,
            "object_fit": null,
            "grid_auto_columns": null,
            "margin": null,
            "display": null,
            "left": null
          }
        },
        "c7d0a8f7b0e3418eb7d6c211110d415c": {
          "model_module": "@jupyter-widgets/controls",
          "model_name": "DescriptionStyleModel",
          "state": {
            "_view_name": "StyleView",
            "_model_name": "DescriptionStyleModel",
            "description_width": "",
            "_view_module": "@jupyter-widgets/base",
            "_model_module_version": "1.5.0",
            "_view_count": null,
            "_view_module_version": "1.2.0",
            "_model_module": "@jupyter-widgets/controls"
          }
        },
        "2457cc5710aa4a2696b423e4c5a483b9": {
          "model_module": "@jupyter-widgets/base",
          "model_name": "LayoutModel",
          "state": {
            "_view_name": "LayoutView",
            "grid_template_rows": null,
            "right": null,
            "justify_content": null,
            "_view_module": "@jupyter-widgets/base",
            "overflow": null,
            "_model_module_version": "1.2.0",
            "_view_count": null,
            "flex_flow": null,
            "width": null,
            "min_width": null,
            "border": null,
            "align_items": null,
            "bottom": null,
            "_model_module": "@jupyter-widgets/base",
            "top": null,
            "grid_column": null,
            "overflow_y": null,
            "overflow_x": null,
            "grid_auto_flow": null,
            "grid_area": null,
            "grid_template_columns": null,
            "flex": null,
            "_model_name": "LayoutModel",
            "justify_items": null,
            "grid_row": null,
            "max_height": null,
            "align_content": null,
            "visibility": null,
            "align_self": null,
            "height": null,
            "min_height": null,
            "padding": null,
            "grid_auto_rows": null,
            "grid_gap": null,
            "max_width": null,
            "order": null,
            "_view_module_version": "1.2.0",
            "grid_template_areas": null,
            "object_position": null,
            "object_fit": null,
            "grid_auto_columns": null,
            "margin": null,
            "display": null,
            "left": null
          }
        },
        "b577115004494b44bc7229cf549a5964": {
          "model_module": "@jupyter-widgets/controls",
          "model_name": "HBoxModel",
          "state": {
            "_view_name": "HBoxView",
            "_dom_classes": [],
            "_model_name": "HBoxModel",
            "_view_module": "@jupyter-widgets/controls",
            "_model_module_version": "1.5.0",
            "_view_count": null,
            "_view_module_version": "1.5.0",
            "box_style": "",
            "layout": "IPY_MODEL_0b89ff6527674d82a2158f95c5d04a8e",
            "_model_module": "@jupyter-widgets/controls",
            "children": [
              "IPY_MODEL_63101d97c1264e18a54de75018c0d67b",
              "IPY_MODEL_5cddd1723a104862a9b8c909d84a9cd5"
            ]
          }
        },
        "0b89ff6527674d82a2158f95c5d04a8e": {
          "model_module": "@jupyter-widgets/base",
          "model_name": "LayoutModel",
          "state": {
            "_view_name": "LayoutView",
            "grid_template_rows": null,
            "right": null,
            "justify_content": null,
            "_view_module": "@jupyter-widgets/base",
            "overflow": null,
            "_model_module_version": "1.2.0",
            "_view_count": null,
            "flex_flow": null,
            "width": null,
            "min_width": null,
            "border": null,
            "align_items": null,
            "bottom": null,
            "_model_module": "@jupyter-widgets/base",
            "top": null,
            "grid_column": null,
            "overflow_y": null,
            "overflow_x": null,
            "grid_auto_flow": null,
            "grid_area": null,
            "grid_template_columns": null,
            "flex": null,
            "_model_name": "LayoutModel",
            "justify_items": null,
            "grid_row": null,
            "max_height": null,
            "align_content": null,
            "visibility": null,
            "align_self": null,
            "height": null,
            "min_height": null,
            "padding": null,
            "grid_auto_rows": null,
            "grid_gap": null,
            "max_width": null,
            "order": null,
            "_view_module_version": "1.2.0",
            "grid_template_areas": null,
            "object_position": null,
            "object_fit": null,
            "grid_auto_columns": null,
            "margin": null,
            "display": null,
            "left": null
          }
        },
        "63101d97c1264e18a54de75018c0d67b": {
          "model_module": "@jupyter-widgets/controls",
          "model_name": "FloatProgressModel",
          "state": {
            "_view_name": "ProgressView",
            "style": "IPY_MODEL_1646bf06feb441729eee6a0e4edf3e6f",
            "_dom_classes": [],
            "description": "100%",
            "_model_name": "FloatProgressModel",
            "bar_style": "success",
            "max": 2,
            "_view_module": "@jupyter-widgets/controls",
            "_model_module_version": "1.5.0",
            "value": 2,
            "_view_count": null,
            "_view_module_version": "1.5.0",
            "orientation": "horizontal",
            "min": 0,
            "description_tooltip": null,
            "_model_module": "@jupyter-widgets/controls",
            "layout": "IPY_MODEL_6b7db092879942eb8b97ec71ec04f3ae"
          }
        },
        "5cddd1723a104862a9b8c909d84a9cd5": {
          "model_module": "@jupyter-widgets/controls",
          "model_name": "HTMLModel",
          "state": {
            "_view_name": "HTMLView",
            "style": "IPY_MODEL_4c21df627d6e48eb840c9ec51b854cff",
            "_dom_classes": [],
            "description": "",
            "_model_name": "HTMLModel",
            "placeholder": "​",
            "_view_module": "@jupyter-widgets/controls",
            "_model_module_version": "1.5.0",
            "value": " 2/2 [02:03&lt;00:00, 61.96s/it]",
            "_view_count": null,
            "_view_module_version": "1.5.0",
            "description_tooltip": null,
            "_model_module": "@jupyter-widgets/controls",
            "layout": "IPY_MODEL_54b163438237496da673db613639d52f"
          }
        },
        "1646bf06feb441729eee6a0e4edf3e6f": {
          "model_module": "@jupyter-widgets/controls",
          "model_name": "ProgressStyleModel",
          "state": {
            "_view_name": "StyleView",
            "_model_name": "ProgressStyleModel",
            "description_width": "initial",
            "_view_module": "@jupyter-widgets/base",
            "_model_module_version": "1.5.0",
            "_view_count": null,
            "_view_module_version": "1.2.0",
            "bar_color": null,
            "_model_module": "@jupyter-widgets/controls"
          }
        },
        "6b7db092879942eb8b97ec71ec04f3ae": {
          "model_module": "@jupyter-widgets/base",
          "model_name": "LayoutModel",
          "state": {
            "_view_name": "LayoutView",
            "grid_template_rows": null,
            "right": null,
            "justify_content": null,
            "_view_module": "@jupyter-widgets/base",
            "overflow": null,
            "_model_module_version": "1.2.0",
            "_view_count": null,
            "flex_flow": null,
            "width": null,
            "min_width": null,
            "border": null,
            "align_items": null,
            "bottom": null,
            "_model_module": "@jupyter-widgets/base",
            "top": null,
            "grid_column": null,
            "overflow_y": null,
            "overflow_x": null,
            "grid_auto_flow": null,
            "grid_area": null,
            "grid_template_columns": null,
            "flex": null,
            "_model_name": "LayoutModel",
            "justify_items": null,
            "grid_row": null,
            "max_height": null,
            "align_content": null,
            "visibility": null,
            "align_self": null,
            "height": null,
            "min_height": null,
            "padding": null,
            "grid_auto_rows": null,
            "grid_gap": null,
            "max_width": null,
            "order": null,
            "_view_module_version": "1.2.0",
            "grid_template_areas": null,
            "object_position": null,
            "object_fit": null,
            "grid_auto_columns": null,
            "margin": null,
            "display": null,
            "left": null
          }
        },
        "4c21df627d6e48eb840c9ec51b854cff": {
          "model_module": "@jupyter-widgets/controls",
          "model_name": "DescriptionStyleModel",
          "state": {
            "_view_name": "StyleView",
            "_model_name": "DescriptionStyleModel",
            "description_width": "",
            "_view_module": "@jupyter-widgets/base",
            "_model_module_version": "1.5.0",
            "_view_count": null,
            "_view_module_version": "1.2.0",
            "_model_module": "@jupyter-widgets/controls"
          }
        },
        "54b163438237496da673db613639d52f": {
          "model_module": "@jupyter-widgets/base",
          "model_name": "LayoutModel",
          "state": {
            "_view_name": "LayoutView",
            "grid_template_rows": null,
            "right": null,
            "justify_content": null,
            "_view_module": "@jupyter-widgets/base",
            "overflow": null,
            "_model_module_version": "1.2.0",
            "_view_count": null,
            "flex_flow": null,
            "width": null,
            "min_width": null,
            "border": null,
            "align_items": null,
            "bottom": null,
            "_model_module": "@jupyter-widgets/base",
            "top": null,
            "grid_column": null,
            "overflow_y": null,
            "overflow_x": null,
            "grid_auto_flow": null,
            "grid_area": null,
            "grid_template_columns": null,
            "flex": null,
            "_model_name": "LayoutModel",
            "justify_items": null,
            "grid_row": null,
            "max_height": null,
            "align_content": null,
            "visibility": null,
            "align_self": null,
            "height": null,
            "min_height": null,
            "padding": null,
            "grid_auto_rows": null,
            "grid_gap": null,
            "max_width": null,
            "order": null,
            "_view_module_version": "1.2.0",
            "grid_template_areas": null,
            "object_position": null,
            "object_fit": null,
            "grid_auto_columns": null,
            "margin": null,
            "display": null,
            "left": null
          }
        },
        "882b37417ceb4916b61ffffda429e2ec": {
          "model_module": "@jupyter-widgets/controls",
          "model_name": "HBoxModel",
          "state": {
            "_view_name": "HBoxView",
            "_dom_classes": [],
            "_model_name": "HBoxModel",
            "_view_module": "@jupyter-widgets/controls",
            "_model_module_version": "1.5.0",
            "_view_count": null,
            "_view_module_version": "1.5.0",
            "box_style": "",
            "layout": "IPY_MODEL_555b969df4524650992974c5d8709e6c",
            "_model_module": "@jupyter-widgets/controls",
            "children": [
              "IPY_MODEL_bbe939f452b94943842f62e0c7a4c029",
              "IPY_MODEL_c5806451341c48c3b0f206944aafe4c8"
            ]
          }
        },
        "555b969df4524650992974c5d8709e6c": {
          "model_module": "@jupyter-widgets/base",
          "model_name": "LayoutModel",
          "state": {
            "_view_name": "LayoutView",
            "grid_template_rows": null,
            "right": null,
            "justify_content": null,
            "_view_module": "@jupyter-widgets/base",
            "overflow": null,
            "_model_module_version": "1.2.0",
            "_view_count": null,
            "flex_flow": null,
            "width": null,
            "min_width": null,
            "border": null,
            "align_items": null,
            "bottom": null,
            "_model_module": "@jupyter-widgets/base",
            "top": null,
            "grid_column": null,
            "overflow_y": null,
            "overflow_x": null,
            "grid_auto_flow": null,
            "grid_area": null,
            "grid_template_columns": null,
            "flex": null,
            "_model_name": "LayoutModel",
            "justify_items": null,
            "grid_row": null,
            "max_height": null,
            "align_content": null,
            "visibility": null,
            "align_self": null,
            "height": null,
            "min_height": null,
            "padding": null,
            "grid_auto_rows": null,
            "grid_gap": null,
            "max_width": null,
            "order": null,
            "_view_module_version": "1.2.0",
            "grid_template_areas": null,
            "object_position": null,
            "object_fit": null,
            "grid_auto_columns": null,
            "margin": null,
            "display": null,
            "left": null
          }
        },
        "bbe939f452b94943842f62e0c7a4c029": {
          "model_module": "@jupyter-widgets/controls",
          "model_name": "FloatProgressModel",
          "state": {
            "_view_name": "ProgressView",
            "style": "IPY_MODEL_5cca720a31454efab4e64d2159ad8ecc",
            "_dom_classes": [],
            "description": "Downloading: 100%",
            "_model_name": "FloatProgressModel",
            "bar_style": "success",
            "max": 625,
            "_view_module": "@jupyter-widgets/controls",
            "_model_module_version": "1.5.0",
            "value": 625,
            "_view_count": null,
            "_view_module_version": "1.5.0",
            "orientation": "horizontal",
            "min": 0,
            "description_tooltip": null,
            "_model_module": "@jupyter-widgets/controls",
            "layout": "IPY_MODEL_5e4dc542c74440c395bdce122b19a92d"
          }
        },
        "c5806451341c48c3b0f206944aafe4c8": {
          "model_module": "@jupyter-widgets/controls",
          "model_name": "HTMLModel",
          "state": {
            "_view_name": "HTMLView",
            "style": "IPY_MODEL_85cbbea91bfb43419841fd7a1068b4f0",
            "_dom_classes": [],
            "description": "",
            "_model_name": "HTMLModel",
            "placeholder": "​",
            "_view_module": "@jupyter-widgets/controls",
            "_model_module_version": "1.5.0",
            "value": " 625/625 [01:57&lt;00:00, 5.30B/s]",
            "_view_count": null,
            "_view_module_version": "1.5.0",
            "description_tooltip": null,
            "_model_module": "@jupyter-widgets/controls",
            "layout": "IPY_MODEL_fde7a5a015014149acceaea5146c42fb"
          }
        },
        "5cca720a31454efab4e64d2159ad8ecc": {
          "model_module": "@jupyter-widgets/controls",
          "model_name": "ProgressStyleModel",
          "state": {
            "_view_name": "StyleView",
            "_model_name": "ProgressStyleModel",
            "description_width": "initial",
            "_view_module": "@jupyter-widgets/base",
            "_model_module_version": "1.5.0",
            "_view_count": null,
            "_view_module_version": "1.2.0",
            "bar_color": null,
            "_model_module": "@jupyter-widgets/controls"
          }
        },
        "5e4dc542c74440c395bdce122b19a92d": {
          "model_module": "@jupyter-widgets/base",
          "model_name": "LayoutModel",
          "state": {
            "_view_name": "LayoutView",
            "grid_template_rows": null,
            "right": null,
            "justify_content": null,
            "_view_module": "@jupyter-widgets/base",
            "overflow": null,
            "_model_module_version": "1.2.0",
            "_view_count": null,
            "flex_flow": null,
            "width": null,
            "min_width": null,
            "border": null,
            "align_items": null,
            "bottom": null,
            "_model_module": "@jupyter-widgets/base",
            "top": null,
            "grid_column": null,
            "overflow_y": null,
            "overflow_x": null,
            "grid_auto_flow": null,
            "grid_area": null,
            "grid_template_columns": null,
            "flex": null,
            "_model_name": "LayoutModel",
            "justify_items": null,
            "grid_row": null,
            "max_height": null,
            "align_content": null,
            "visibility": null,
            "align_self": null,
            "height": null,
            "min_height": null,
            "padding": null,
            "grid_auto_rows": null,
            "grid_gap": null,
            "max_width": null,
            "order": null,
            "_view_module_version": "1.2.0",
            "grid_template_areas": null,
            "object_position": null,
            "object_fit": null,
            "grid_auto_columns": null,
            "margin": null,
            "display": null,
            "left": null
          }
        },
        "85cbbea91bfb43419841fd7a1068b4f0": {
          "model_module": "@jupyter-widgets/controls",
          "model_name": "DescriptionStyleModel",
          "state": {
            "_view_name": "StyleView",
            "_model_name": "DescriptionStyleModel",
            "description_width": "",
            "_view_module": "@jupyter-widgets/base",
            "_model_module_version": "1.5.0",
            "_view_count": null,
            "_view_module_version": "1.2.0",
            "_model_module": "@jupyter-widgets/controls"
          }
        },
        "fde7a5a015014149acceaea5146c42fb": {
          "model_module": "@jupyter-widgets/base",
          "model_name": "LayoutModel",
          "state": {
            "_view_name": "LayoutView",
            "grid_template_rows": null,
            "right": null,
            "justify_content": null,
            "_view_module": "@jupyter-widgets/base",
            "overflow": null,
            "_model_module_version": "1.2.0",
            "_view_count": null,
            "flex_flow": null,
            "width": null,
            "min_width": null,
            "border": null,
            "align_items": null,
            "bottom": null,
            "_model_module": "@jupyter-widgets/base",
            "top": null,
            "grid_column": null,
            "overflow_y": null,
            "overflow_x": null,
            "grid_auto_flow": null,
            "grid_area": null,
            "grid_template_columns": null,
            "flex": null,
            "_model_name": "LayoutModel",
            "justify_items": null,
            "grid_row": null,
            "max_height": null,
            "align_content": null,
            "visibility": null,
            "align_self": null,
            "height": null,
            "min_height": null,
            "padding": null,
            "grid_auto_rows": null,
            "grid_gap": null,
            "max_width": null,
            "order": null,
            "_view_module_version": "1.2.0",
            "grid_template_areas": null,
            "object_position": null,
            "object_fit": null,
            "grid_auto_columns": null,
            "margin": null,
            "display": null,
            "left": null
          }
        },
        "3eb2205b0bdc404191c054df9d31b0e9": {
          "model_module": "@jupyter-widgets/controls",
          "model_name": "HBoxModel",
          "state": {
            "_view_name": "HBoxView",
            "_dom_classes": [],
            "_model_name": "HBoxModel",
            "_view_module": "@jupyter-widgets/controls",
            "_model_module_version": "1.5.0",
            "_view_count": null,
            "_view_module_version": "1.5.0",
            "box_style": "",
            "layout": "IPY_MODEL_c3f072d02dc840388b776b824dcee350",
            "_model_module": "@jupyter-widgets/controls",
            "children": [
              "IPY_MODEL_4dfd2529275f4c81925208a73b49b4d7",
              "IPY_MODEL_8170914a4acd474f98d0620d7d7fd0a8"
            ]
          }
        },
        "c3f072d02dc840388b776b824dcee350": {
          "model_module": "@jupyter-widgets/base",
          "model_name": "LayoutModel",
          "state": {
            "_view_name": "LayoutView",
            "grid_template_rows": null,
            "right": null,
            "justify_content": null,
            "_view_module": "@jupyter-widgets/base",
            "overflow": null,
            "_model_module_version": "1.2.0",
            "_view_count": null,
            "flex_flow": null,
            "width": null,
            "min_width": null,
            "border": null,
            "align_items": null,
            "bottom": null,
            "_model_module": "@jupyter-widgets/base",
            "top": null,
            "grid_column": null,
            "overflow_y": null,
            "overflow_x": null,
            "grid_auto_flow": null,
            "grid_area": null,
            "grid_template_columns": null,
            "flex": null,
            "_model_name": "LayoutModel",
            "justify_items": null,
            "grid_row": null,
            "max_height": null,
            "align_content": null,
            "visibility": null,
            "align_self": null,
            "height": null,
            "min_height": null,
            "padding": null,
            "grid_auto_rows": null,
            "grid_gap": null,
            "max_width": null,
            "order": null,
            "_view_module_version": "1.2.0",
            "grid_template_areas": null,
            "object_position": null,
            "object_fit": null,
            "grid_auto_columns": null,
            "margin": null,
            "display": null,
            "left": null
          }
        },
        "4dfd2529275f4c81925208a73b49b4d7": {
          "model_module": "@jupyter-widgets/controls",
          "model_name": "FloatProgressModel",
          "state": {
            "_view_name": "ProgressView",
            "style": "IPY_MODEL_842d3063857049a581101863983708ee",
            "_dom_classes": [],
            "description": "Downloading: 100%",
            "_model_name": "FloatProgressModel",
            "bar_style": "success",
            "max": 714314041,
            "_view_module": "@jupyter-widgets/controls",
            "_model_module_version": "1.5.0",
            "value": 714314041,
            "_view_count": null,
            "_view_module_version": "1.5.0",
            "orientation": "horizontal",
            "min": 0,
            "description_tooltip": null,
            "_model_module": "@jupyter-widgets/controls",
            "layout": "IPY_MODEL_09acfc41bfbf4768a2ffee51a2112ea1"
          }
        },
        "8170914a4acd474f98d0620d7d7fd0a8": {
          "model_module": "@jupyter-widgets/controls",
          "model_name": "HTMLModel",
          "state": {
            "_view_name": "HTMLView",
            "style": "IPY_MODEL_1d05aa7e6db3466bbf5e2d530a7f50f4",
            "_dom_classes": [],
            "description": "",
            "_model_name": "HTMLModel",
            "placeholder": "​",
            "_view_module": "@jupyter-widgets/controls",
            "_model_module_version": "1.5.0",
            "value": " 714M/714M [00:15&lt;00:00, 45.6MB/s]",
            "_view_count": null,
            "_view_module_version": "1.5.0",
            "description_tooltip": null,
            "_model_module": "@jupyter-widgets/controls",
            "layout": "IPY_MODEL_98a3e6ff7e9d41009951a07ebe37a31d"
          }
        },
        "842d3063857049a581101863983708ee": {
          "model_module": "@jupyter-widgets/controls",
          "model_name": "ProgressStyleModel",
          "state": {
            "_view_name": "StyleView",
            "_model_name": "ProgressStyleModel",
            "description_width": "initial",
            "_view_module": "@jupyter-widgets/base",
            "_model_module_version": "1.5.0",
            "_view_count": null,
            "_view_module_version": "1.2.0",
            "bar_color": null,
            "_model_module": "@jupyter-widgets/controls"
          }
        },
        "09acfc41bfbf4768a2ffee51a2112ea1": {
          "model_module": "@jupyter-widgets/base",
          "model_name": "LayoutModel",
          "state": {
            "_view_name": "LayoutView",
            "grid_template_rows": null,
            "right": null,
            "justify_content": null,
            "_view_module": "@jupyter-widgets/base",
            "overflow": null,
            "_model_module_version": "1.2.0",
            "_view_count": null,
            "flex_flow": null,
            "width": null,
            "min_width": null,
            "border": null,
            "align_items": null,
            "bottom": null,
            "_model_module": "@jupyter-widgets/base",
            "top": null,
            "grid_column": null,
            "overflow_y": null,
            "overflow_x": null,
            "grid_auto_flow": null,
            "grid_area": null,
            "grid_template_columns": null,
            "flex": null,
            "_model_name": "LayoutModel",
            "justify_items": null,
            "grid_row": null,
            "max_height": null,
            "align_content": null,
            "visibility": null,
            "align_self": null,
            "height": null,
            "min_height": null,
            "padding": null,
            "grid_auto_rows": null,
            "grid_gap": null,
            "max_width": null,
            "order": null,
            "_view_module_version": "1.2.0",
            "grid_template_areas": null,
            "object_position": null,
            "object_fit": null,
            "grid_auto_columns": null,
            "margin": null,
            "display": null,
            "left": null
          }
        },
        "1d05aa7e6db3466bbf5e2d530a7f50f4": {
          "model_module": "@jupyter-widgets/controls",
          "model_name": "DescriptionStyleModel",
          "state": {
            "_view_name": "StyleView",
            "_model_name": "DescriptionStyleModel",
            "description_width": "",
            "_view_module": "@jupyter-widgets/base",
            "_model_module_version": "1.5.0",
            "_view_count": null,
            "_view_module_version": "1.2.0",
            "_model_module": "@jupyter-widgets/controls"
          }
        },
        "98a3e6ff7e9d41009951a07ebe37a31d": {
          "model_module": "@jupyter-widgets/base",
          "model_name": "LayoutModel",
          "state": {
            "_view_name": "LayoutView",
            "grid_template_rows": null,
            "right": null,
            "justify_content": null,
            "_view_module": "@jupyter-widgets/base",
            "overflow": null,
            "_model_module_version": "1.2.0",
            "_view_count": null,
            "flex_flow": null,
            "width": null,
            "min_width": null,
            "border": null,
            "align_items": null,
            "bottom": null,
            "_model_module": "@jupyter-widgets/base",
            "top": null,
            "grid_column": null,
            "overflow_y": null,
            "overflow_x": null,
            "grid_auto_flow": null,
            "grid_area": null,
            "grid_template_columns": null,
            "flex": null,
            "_model_name": "LayoutModel",
            "justify_items": null,
            "grid_row": null,
            "max_height": null,
            "align_content": null,
            "visibility": null,
            "align_self": null,
            "height": null,
            "min_height": null,
            "padding": null,
            "grid_auto_rows": null,
            "grid_gap": null,
            "max_width": null,
            "order": null,
            "_view_module_version": "1.2.0",
            "grid_template_areas": null,
            "object_position": null,
            "object_fit": null,
            "grid_auto_columns": null,
            "margin": null,
            "display": null,
            "left": null
          }
        }
      }
    },
    "accelerator": "GPU"
  },
  "cells": [
    {
      "cell_type": "code",
      "metadata": {
        "id": "tPvW1KQDCFtW"
      },
      "source": [
        "!pip install transformers"
      ],
      "execution_count": null,
      "outputs": []
    },
    {
      "cell_type": "code",
      "metadata": {
        "id": "ydYs-aR3fD4U"
      },
      "source": [
        "!pip install pytorch_tabnet"
      ],
      "execution_count": null,
      "outputs": []
    },
    {
      "cell_type": "code",
      "metadata": {
        "id": "rtkiI1bcOR25",
        "colab": {
          "base_uri": "https://localhost:8080/"
        },
        "outputId": "86298de2-c648-4516-c703-5f34ac1d5656"
      },
      "source": [
        "import os\n",
        "import numpy as np\n",
        "import pandas as pd\n",
        "import time\n",
        "import datetime\n",
        "import random\n",
        "from tqdm.notebook import tqdm\n",
        "\n",
        "import torch\n",
        "import torch.nn as nn\n",
        "import torch.nn.functional as F\n",
        "from torch.utils.data import DataLoader, TensorDataset\n",
        "from scipy.sparse import csc_matrix\n",
        "from pytorch_tabnet import tab_network\n",
        "from pytorch_tabnet.tab_network import TabNet\n",
        "from pytorch_tabnet.utils import create_sampler, PredictDataset, create_explain_matrix\n",
        "\n",
        "from transformers import BertPreTrainedModel, BertConfig, BertModel, BertTokenizer, AdamW, get_linear_schedule_with_warmup\n",
        "from keras.preprocessing.sequence import pad_sequences\n",
        "\n",
        "from sklearn.preprocessing import LabelEncoder, StandardScaler\n",
        "from sklearn.metrics import accuracy_score, recall_score, precision_score\n",
        "\n",
        "\n",
        "np.random.seed(2021)\n",
        "torch.manual_seed(2021)"
      ],
      "execution_count": null,
      "outputs": [
        {
          "output_type": "execute_result",
          "data": {
            "text/plain": [
              "<torch._C.Generator at 0x7f3dfc91be50>"
            ]
          },
          "metadata": {
            "tags": []
          },
          "execution_count": 37
        }
      ]
    },
    {
      "cell_type": "code",
      "metadata": {
        "id": "1suMzANTDKgt",
        "colab": {
          "base_uri": "https://localhost:8080/"
        },
        "outputId": "6cf8f0d9-bede-4a50-cc16-a5605a01c74a"
      },
      "source": [
        "from google.colab import drive\n",
        "drive.mount('/content/drive/')"
      ],
      "execution_count": null,
      "outputs": [
        {
          "output_type": "stream",
          "text": [
            "Mounted at /content/drive/\n"
          ],
          "name": "stdout"
        }
      ]
    },
    {
      "cell_type": "markdown",
      "metadata": {
        "id": "X6XKHfUIurZX"
      },
      "source": [
        "# 텍스트와 정형 데이터 불러오기\n"
      ]
    },
    {
      "cell_type": "code",
      "metadata": {
        "id": "sECt9SIoDivG"
      },
      "source": [
        "path1 = \"/content/drive/My Drive/LG/UPLUS/\"\n",
        "path2 = \"drive/My Drive/NLP_practice/Blue-House/\""
      ],
      "execution_count": null,
      "outputs": []
    },
    {
      "cell_type": "code",
      "metadata": {
        "id": "yJ7O2sK1D7_p"
      },
      "source": [
        " train1 = pd.read_csv(path1 + 'Stars.csv')\n",
        "train2 = pd.read_csv(path2 + 'train.csv')"
      ],
      "execution_count": null,
      "outputs": []
    },
    {
      "cell_type": "code",
      "metadata": {
        "id": "ozkTy5sVkmej"
      },
      "source": [
        "train2 = train2.iloc[:train1.shape[0],:]\n",
        "train = pd.concat([train2.data, train1], axis = 1)"
      ],
      "execution_count": null,
      "outputs": []
    },
    {
      "cell_type": "code",
      "metadata": {
        "id": "mfqEALKygFYP"
      },
      "source": [
        "X = train.loc[:,train.columns != 'Type']\n",
        "y = train.loc[:, 'Type']\n",
        "\n",
        "target = 'Type'"
      ],
      "execution_count": null,
      "outputs": []
    },
    {
      "cell_type": "code",
      "metadata": {
        "id": "fQTEmnuVlSys"
      },
      "source": [
        "bert_X = X.loc[:, X.columns == 'data']\n",
        "tab_X = X.loc[:,X.columns != 'data']"
      ],
      "execution_count": null,
      "outputs": []
    },
    {
      "cell_type": "code",
      "metadata": {
        "colab": {
          "base_uri": "https://localhost:8080/",
          "height": 419
        },
        "id": "LE0_hmcVk2PS",
        "outputId": "5885cada-e12e-4425-f240-ce59933a46e4"
      },
      "source": [
        "bert_X"
      ],
      "execution_count": null,
      "outputs": [
        {
          "output_type": "execute_result",
          "data": {
            "text/html": [
              "<div>\n",
              "<style scoped>\n",
              "    .dataframe tbody tr th:only-of-type {\n",
              "        vertical-align: middle;\n",
              "    }\n",
              "\n",
              "    .dataframe tbody tr th {\n",
              "        vertical-align: top;\n",
              "    }\n",
              "\n",
              "    .dataframe thead th {\n",
              "        text-align: right;\n",
              "    }\n",
              "</style>\n",
              "<table border=\"1\" class=\"dataframe\">\n",
              "  <thead>\n",
              "    <tr style=\"text-align: right;\">\n",
              "      <th></th>\n",
              "      <th>data</th>\n",
              "    </tr>\n",
              "  </thead>\n",
              "  <tbody>\n",
              "    <tr>\n",
              "      <th>0</th>\n",
              "      <td>신혼부부위한 주택정책 보다 보육시설 늘려주세요.. 국민세금으로 일부를 위한 정책펴지...</td>\n",
              "    </tr>\n",
              "    <tr>\n",
              "      <th>1</th>\n",
              "      <td>학교이름에 '남자'도 붙여주세요. 울산여자중학교에 재학중인 학생입니다 최근 양성평등...</td>\n",
              "    </tr>\n",
              "    <tr>\n",
              "      <th>2</th>\n",
              "      <td>빙상연맹, 대한축구협회등 각종 체육협회의 비리를 철저하게 밝혀주세요.. 최근 동계올...</td>\n",
              "    </tr>\n",
              "    <tr>\n",
              "      <th>3</th>\n",
              "      <td>티비 12세,15세 관람가도 연령확인 의무화 하자.. 제기 에전에 티비를 보다가 잠...</td>\n",
              "    </tr>\n",
              "    <tr>\n",
              "      <th>4</th>\n",
              "      <td>무더운 여름철엔 남성들도 시원한 자율복장을 해야. 무더운 여름철에는 남성들도 노넥타...</td>\n",
              "    </tr>\n",
              "    <tr>\n",
              "      <th>...</th>\n",
              "      <td>...</td>\n",
              "    </tr>\n",
              "    <tr>\n",
              "      <th>235</th>\n",
              "      <td>대한민국의 공교육을 살려주십시요!!!. 오늘 충격적인 학부모 연수가 중학교 강당에서...</td>\n",
              "    </tr>\n",
              "    <tr>\n",
              "      <th>236</th>\n",
              "      <td>헌법법폐지하라. 문재인대통령 님\\n헌법폐지해주세요\\n헌법이통과되면 이나라는  매우 ...</td>\n",
              "    </tr>\n",
              "    <tr>\n",
              "      <th>237</th>\n",
              "      <td>KBS 드라마 광고 중간삽입은 좋다. 하지만 수신료는 받지 마라. 이번 KBS 월화...</td>\n",
              "    </tr>\n",
              "    <tr>\n",
              "      <th>238</th>\n",
              "      <td>베이비시터의 자격여부 나라에서 승인하십시오. 요양보호사조차 여러자격요건과 실습이 필...</td>\n",
              "    </tr>\n",
              "    <tr>\n",
              "      <th>239</th>\n",
              "      <td>부패와 힘으로 논리로 약자를 짓누르는 사악한 집단. 부패와 힘으로 논리로 약자를 짓...</td>\n",
              "    </tr>\n",
              "  </tbody>\n",
              "</table>\n",
              "<p>240 rows × 1 columns</p>\n",
              "</div>"
            ],
            "text/plain": [
              "                                                  data\n",
              "0    신혼부부위한 주택정책 보다 보육시설 늘려주세요.. 국민세금으로 일부를 위한 정책펴지...\n",
              "1    학교이름에 '남자'도 붙여주세요. 울산여자중학교에 재학중인 학생입니다 최근 양성평등...\n",
              "2    빙상연맹, 대한축구협회등 각종 체육협회의 비리를 철저하게 밝혀주세요.. 최근 동계올...\n",
              "3    티비 12세,15세 관람가도 연령확인 의무화 하자.. 제기 에전에 티비를 보다가 잠...\n",
              "4    무더운 여름철엔 남성들도 시원한 자율복장을 해야. 무더운 여름철에는 남성들도 노넥타...\n",
              "..                                                 ...\n",
              "235  대한민국의 공교육을 살려주십시요!!!. 오늘 충격적인 학부모 연수가 중학교 강당에서...\n",
              "236  헌법법폐지하라. 문재인대통령 님\\n헌법폐지해주세요\\n헌법이통과되면 이나라는  매우 ...\n",
              "237  KBS 드라마 광고 중간삽입은 좋다. 하지만 수신료는 받지 마라. 이번 KBS 월화...\n",
              "238  베이비시터의 자격여부 나라에서 승인하십시오. 요양보호사조차 여러자격요건과 실습이 필...\n",
              "239  부패와 힘으로 논리로 약자를 짓누르는 사악한 집단. 부패와 힘으로 논리로 약자를 짓...\n",
              "\n",
              "[240 rows x 1 columns]"
            ]
          },
          "metadata": {
            "tags": []
          },
          "execution_count": 16
        }
      ]
    },
    {
      "cell_type": "markdown",
      "metadata": {
        "id": "93i3JFEOuy_Q"
      },
      "source": [
        "# 전처리 작업"
      ]
    },
    {
      "cell_type": "code",
      "metadata": {
        "id": "CXi-C-QNlsNT",
        "colab": {
          "base_uri": "https://localhost:8080/",
          "height": 167,
          "referenced_widgets": [
            "d70d8a52adad47d5a3b3f89c9e34558a",
            "9f2bf350d58f47eeb1477c44b1f07a57",
            "5d336f75f8eb436fb8a49d9f631151ba",
            "4a453ebee6e6497e90d159c2c4e85d4d",
            "f185771e27644f91b366c4a1759bf6eb",
            "0d781b6c397444419b7d87286a01fd6d",
            "37d18d85949b4f4ca453ac00ea5b9191",
            "4739997379f1466eb1dda8331889b9ab",
            "3cb35f00993b4e7ea974df5b87372fc9",
            "cce70d19cf2a414693ca991e5ae8f61a",
            "185a372f56154c41a2a1e5cb0697654d",
            "5f570110da87463eab9cab68fc0fca18",
            "164949e5b3f24977bf83f3a7cb64000b",
            "0711d00e77a7495cb392d79eb0cf13fc",
            "d751c5c78b86489896237439af438440",
            "a90ec6ea500a4789aedb279e12db27db",
            "f0c804c6c8df42d0ab60783654cb6230",
            "56a81c32cf7341a7ae3b04f9afa07b56",
            "0ea4e7c3d93f411fb9aea439fe0f80c4",
            "b4db7a069bef45c7a7114526b0ab6f91",
            "b81f2f28f6a74b4ab147857bd0a69a35",
            "f907471cd81d4e1190ad79655847223e",
            "c7d0a8f7b0e3418eb7d6c211110d415c",
            "2457cc5710aa4a2696b423e4c5a483b9"
          ]
        },
        "outputId": "11b95909-803a-469b-9bf0-554e28533b5c"
      },
      "source": [
        "# Tokenizer 불러오기\n",
        "tokenizer = BertTokenizer.from_pretrained('bert-base-multilingual-cased')"
      ],
      "execution_count": null,
      "outputs": [
        {
          "output_type": "display_data",
          "data": {
            "application/vnd.jupyter.widget-view+json": {
              "model_id": "d70d8a52adad47d5a3b3f89c9e34558a",
              "version_minor": 0,
              "version_major": 2
            },
            "text/plain": [
              "HBox(children=(FloatProgress(value=0.0, description='Downloading', max=995526.0, style=ProgressStyle(descripti…"
            ]
          },
          "metadata": {
            "tags": []
          }
        },
        {
          "output_type": "stream",
          "text": [
            "\n"
          ],
          "name": "stdout"
        },
        {
          "output_type": "display_data",
          "data": {
            "application/vnd.jupyter.widget-view+json": {
              "model_id": "3cb35f00993b4e7ea974df5b87372fc9",
              "version_minor": 0,
              "version_major": 2
            },
            "text/plain": [
              "HBox(children=(FloatProgress(value=0.0, description='Downloading', max=29.0, style=ProgressStyle(description_w…"
            ]
          },
          "metadata": {
            "tags": []
          }
        },
        {
          "output_type": "stream",
          "text": [
            "\n"
          ],
          "name": "stdout"
        },
        {
          "output_type": "display_data",
          "data": {
            "application/vnd.jupyter.widget-view+json": {
              "model_id": "f0c804c6c8df42d0ab60783654cb6230",
              "version_minor": 0,
              "version_major": 2
            },
            "text/plain": [
              "HBox(children=(FloatProgress(value=0.0, description='Downloading', max=1961828.0, style=ProgressStyle(descript…"
            ]
          },
          "metadata": {
            "tags": []
          }
        },
        {
          "output_type": "stream",
          "text": [
            "\n"
          ],
          "name": "stdout"
        }
      ]
    },
    {
      "cell_type": "code",
      "metadata": {
        "id": "-abLvkwDlyeK"
      },
      "source": [
        "# TEXT 데이터 변환\n",
        "sentences = bert_X['data']\n",
        "def sentence_clean(text):\n",
        "    # 스페셜 토큰 추가\n",
        "    text = [\"[CLS] \" + str(sentence) + \" [SEP]\" for sentence in text]\n",
        "    # 문장 단위\"\\\\n\" 제거\n",
        "    text = [sentence.replace('\\\\n', '.') for sentence in text]\n",
        "    text = [sentence.replace('.', ' ') for sentence in text]\n",
        "    text = [sentence.replace('!', ' ') for sentence in text]\n",
        "    text = [sentence.replace(\"[^ㄱ-ㅎㅏ-ㅣ가-힣 ]\",\"\") for sentence in text]\n",
        "    return(text)\n",
        "\n",
        "sentences = sentence_clean(sentences)\n",
        "tokenized_texts = [tokenizer.tokenize(sent) for sent in sentences]\n",
        "# print(tokenized_texts[0])"
      ],
      "execution_count": null,
      "outputs": []
    },
    {
      "cell_type": "code",
      "metadata": {
        "colab": {
          "base_uri": "https://localhost:8080/"
        },
        "id": "gKKPXt84lycY",
        "outputId": "9da17064-deb4-45ee-bc44-5cc9d3461059"
      },
      "source": [
        "# 입력 토큰의 최대 시퀀스 길이\n",
        "MAX_LEN = 256\n",
        "\n",
        "# 토큰을 숫자 인덱스로 변환\n",
        "input_ids = [tokenizer.convert_tokens_to_ids(x) for x in tokenized_texts]\n",
        "\n",
        "# 문장을 MAX_LEN 길이에 맞게 자르고, 모자란 부분을 패딩 0으로 채움\n",
        "input_ids = pad_sequences(input_ids, maxlen=MAX_LEN, dtype=\"long\", truncating=\"post\", padding=\"post\")\n",
        "print(len(tokenizer.convert_tokens_to_ids(tokenized_texts[0])))"
      ],
      "execution_count": null,
      "outputs": [
        {
          "output_type": "stream",
          "text": [
            "281\n"
          ],
          "name": "stdout"
        }
      ]
    },
    {
      "cell_type": "code",
      "metadata": {
        "id": "j9aYcAi0lyDn"
      },
      "source": [
        "# 어텐션 마스크 초기화\n",
        "attention_masks = []\n",
        "\n",
        "# 어텐션 마스크를 패딩이 아니면 1, 패딩이면 0으로 설정\n",
        "# 패딩 부분은 BERT 모델에서 어텐션을 수행하지 않아 속도 향상\n",
        "for seq in input_ids:\n",
        "    seq_mask = [float(i>0) for i in seq]\n",
        "    attention_masks.append(seq_mask)"
      ],
      "execution_count": null,
      "outputs": []
    },
    {
      "cell_type": "code",
      "metadata": {
        "id": "GwmxIw5rnMRm"
      },
      "source": [
        "# 훈련셋과 검증셋으로 분리\n",
        "# train_inputs, validation_inputs, train_labels, validation_labels = train_test_split(input_ids,\n",
        "#                                                                                     labels, \n",
        "#                                                                                     random_state=7, \n",
        "#                                                                                     test_size=0.2)\n",
        "\n",
        "# 어텐션 마스크를 훈련셋과 검증셋으로 분리\n",
        "# train_masks, validation_masks, _, _ = train_test_split(attention_masks, \n",
        "#                                                        input_ids,\n",
        "#                                                        random_state=7, \n",
        "#                                                        test_size=0.2)\n",
        "\n",
        "# 데이터를 파이토치의 텐서로 변환\n",
        "train_inputs = torch.tensor(input_ids)\n",
        "train_labels = torch.tensor(y.values)\n",
        "train_masks = torch.tensor(attention_masks)\n",
        "# validation_inputs = torch.tensor(validation_inputs)\n",
        "# validation_labels = torch.tensor(validation_labels.values)\n",
        "# validation_masks = torch.tensor(validation_masks)\t\t\t\t\n",
        "\n",
        "print(train_inputs[0])\n",
        "print(train_labels[0])\n",
        "print(train_masks[0])\n",
        "# print(validation_inputs[0])\n",
        "# print(validation_labels[0])\n",
        "# print(validation_masks[0])"
      ],
      "execution_count": null,
      "outputs": []
    },
    {
      "cell_type": "code",
      "metadata": {
        "id": "i3PqrP79lZjC"
      },
      "source": [
        "cvt_tab_X = tab_X.copy()\n",
        "cvt_tab_X.loc[:,['Color', 'Spectral_Class']] = cvt_tab_X.loc[:,['Color', 'Spectral_Class']].astype('category')"
      ],
      "execution_count": null,
      "outputs": []
    },
    {
      "cell_type": "code",
      "metadata": {
        "id": "4a1jI3NeZ2fM"
      },
      "source": [
        "# TabNet 숫자 변수 스케일링\n",
        "std_scaler = StandardScaler()\n",
        "cvt_tab_X.loc[:,cvt_tab_X.columns[cvt_tab_X.dtypes != 'category'].tolist()] = std_scaler.fit_transform(cvt_tab_X.loc[:,cvt_tab_X.columns[cvt_tab_X.dtypes != 'category'].tolist()])"
      ],
      "execution_count": null,
      "outputs": []
    },
    {
      "cell_type": "code",
      "metadata": {
        "id": "gMC5S1iQOR28",
        "colab": {
          "base_uri": "https://localhost:8080/",
          "height": 67,
          "referenced_widgets": [
            "b577115004494b44bc7229cf549a5964",
            "0b89ff6527674d82a2158f95c5d04a8e",
            "63101d97c1264e18a54de75018c0d67b",
            "5cddd1723a104862a9b8c909d84a9cd5",
            "1646bf06feb441729eee6a0e4edf3e6f",
            "6b7db092879942eb8b97ec71ec04f3ae",
            "4c21df627d6e48eb840c9ec51b854cff",
            "54b163438237496da673db613639d52f"
          ]
        },
        "outputId": "5507f080-e462-46e5-f21c-d81dbd435fa7"
      },
      "source": [
        "# TabNet 카테고리 변수 인코딩\n",
        "categorical_columns = []\n",
        "categorical_dims = {}\n",
        "for col in tqdm(cvt_tab_X.columns[cvt_tab_X.dtypes == 'category']):\n",
        "    l_enc = LabelEncoder()\n",
        "    cvt_tab_X[col] = l_enc.fit_transform(cvt_tab_X[col].values)\n",
        "    categorical_columns.append(col)\n",
        "    categorical_dims[col] = len(l_enc.classes_)\n",
        "\n",
        "\n",
        "unused_feat = []\n",
        "\n",
        "features = [col for col in cvt_tab_X.columns if col not in unused_feat+[target]]\n",
        "\n",
        "cat_idxs = [i for i, f in enumerate(features) if f in categorical_columns]\n",
        "\n",
        "cat_dims = [categorical_dims[f] for i, f in enumerate(features) if f in categorical_columns]"
      ],
      "execution_count": null,
      "outputs": [
        {
          "output_type": "display_data",
          "data": {
            "application/vnd.jupyter.widget-view+json": {
              "model_id": "b577115004494b44bc7229cf549a5964",
              "version_minor": 0,
              "version_major": 2
            },
            "text/plain": [
              "HBox(children=(FloatProgress(value=0.0, max=2.0), HTML(value='')))"
            ]
          },
          "metadata": {
            "tags": []
          }
        },
        {
          "output_type": "stream",
          "text": [
            "\n"
          ],
          "name": "stdout"
        }
      ]
    },
    {
      "cell_type": "code",
      "metadata": {
        "id": "dC-2Y_79nMPD"
      },
      "source": [
        "# 배치 사이즈\n",
        "batch_size = 10\n",
        "\n",
        "# 파이토치의 DataLoader로 입력, 마스크, 라벨을 묶어 데이터 설정\n",
        "# 학습시 배치 사이즈 만큼 데이터를 가져옴\n",
        "train_data = TensorDataset(train_inputs, train_masks, train_labels, torch.tensor(cvt_tab_X.values))\n",
        "# train_sampler = RandomSampler(train_data) sampler=train_sampler, \n",
        "train_dataloader = DataLoader(train_data, batch_size=batch_size)\n",
        "\n",
        "# validation_data = TensorDataset(validation_inputs, validation_masks, validation_labels)\n",
        "# validation_sampler = SequentialSampler(validation_data)\n",
        "# validation_dataloader = DataLoader(validation_data, sampler=validation_sampler, batch_size=batch_size)"
      ],
      "execution_count": null,
      "outputs": []
    },
    {
      "cell_type": "markdown",
      "metadata": {
        "id": "A7HuH1XJu3bA"
      },
      "source": [
        "# Network 정의"
      ]
    },
    {
      "cell_type": "code",
      "metadata": {
        "id": "mWmwYRTVOR2-"
      },
      "source": [
        "# Bert 객체 지정\n",
        "class BERT_Module(nn.Module):\n",
        "\n",
        "    def __init__(self, BertModel, pretrain_options=None, out_attention = False):\n",
        "        super(BERT_Module, self).__init__()\n",
        "\n",
        "        if not pretrain_options:\n",
        "            pretrain_options = \"bert-base-multilingual-cased\"\n",
        "        self.encoder = BertModel.from_pretrained(pretrain_options, output_attentions = out_attention)\n",
        "\n",
        "    def forward(self, input_ids=None, token_type_ids=None, attention_mask=None):\n",
        "        bert_output = self.encoder(input_ids = input_ids,\n",
        "                                   token_type_ids = token_type_ids,\n",
        "                                   attention_mask = attention_mask)\n",
        "\n",
        "        return bert_output"
      ],
      "execution_count": null,
      "outputs": []
    },
    {
      "cell_type": "code",
      "metadata": {
        "id": "1k-PEgaeOR2-"
      },
      "source": [
        "# TabNet 객체 지정\n",
        "class TabNet_Module(nn.Module):\n",
        "    def __init__(self, TabNet, input_dim, output_dim, cat_idxs, cat_dims):\n",
        "        super(TabNet_Module, self).__init__()\n",
        "        self.input_dim = input_dim\n",
        "        self.output_dim = output_dim\n",
        "        self.cat_idxs = cat_idxs\n",
        "        self.cat_dims = cat_dims\n",
        "        self.Tabnetwork = TabNet(input_dim = self.input_dim,\n",
        "                                 output_dim = self.output_dim,\n",
        "                                 cat_idxs = self.cat_idxs,\n",
        "                                 cat_dims = self.cat_dims)\n",
        "        \n",
        "    def forward(self, x):\n",
        "        steps_output, M_loss = self.Tabnetwork(x)\n",
        "        \n",
        "        return steps_output, M_loss\n",
        "        \n",
        "    def forward_tab_masks(self, x, batch_nb, res_explain, res_masks): # tabnet attention 산출을 위한 함수\n",
        "        self.reducing_matrix = create_explain_matrix(\n",
        "            self.Tabnetwork.input_dim,\n",
        "            self.Tabnetwork.cat_emb_dim,\n",
        "            self.Tabnetwork.cat_idxs,\n",
        "            self.Tabnetwork.post_embed_dim,\n",
        "        )\n",
        "        \n",
        "        M_explain, masks = self.Tabnetwork.forward_masks(x)\n",
        "        for key, value in masks.items():\n",
        "            masks[key] = csc_matrix.dot(\n",
        "                value.cpu().detach().numpy(), self.reducing_matrix\n",
        "            )\n",
        "\n",
        "        res_explain.append(\n",
        "            csc_matrix.dot(M_explain.cpu().detach().numpy(), self.reducing_matrix)\n",
        "        )\n",
        "\n",
        "        if batch_nb == 0:\n",
        "            res_masks = masks\n",
        "        else:\n",
        "            for key, value in masks.items():\n",
        "                res_masks[key] = np.vstack([res_masks[key], value])\n",
        "                                \n",
        "        return res_explain, res_masks # res_explain을 vstack하여 attention을 산출"
      ],
      "execution_count": null,
      "outputs": []
    },
    {
      "cell_type": "code",
      "metadata": {
        "id": "WsSslGEcYtWw"
      },
      "source": [
        "# MLP 객체 지정\n",
        "class MLP_Module(nn.Module):\n",
        "    def __init__(self, input_dim, num_class):\n",
        "        super(MLP_Module, self).__init__()\n",
        "        \n",
        "        self.layer_1 = nn.Linear(input_dim, 512)\n",
        "        self.layer_2 = nn.Linear(512, 128)\n",
        "        self.layer_3 = nn.Linear(128, 64)\n",
        "        self.layer_out = nn.Linear(64, num_class) \n",
        "        \n",
        "        self.relu = nn.ReLU()\n",
        "        self.dropout = nn.Dropout(p=0.2)\n",
        "        self.batchnorm1 = nn.BatchNorm1d(512)\n",
        "        self.batchnorm2 = nn.BatchNorm1d(128)\n",
        "        self.batchnorm3 = nn.BatchNorm1d(64)\n",
        "        \n",
        "    def forward(self, x):\n",
        "        x = self.layer_1(x)\n",
        "        x = self.batchnorm1(x)\n",
        "        x = self.relu(x)\n",
        "        \n",
        "        x = self.layer_2(x)\n",
        "        x = self.batchnorm2(x)\n",
        "        x = self.relu(x)\n",
        "        x = self.dropout(x)\n",
        "        \n",
        "        x = self.layer_3(x)\n",
        "        x = self.batchnorm3(x)\n",
        "        x = self.relu(x)\n",
        "        x = self.dropout(x)\n",
        "        \n",
        "        x = self.layer_out(x)\n",
        "        return x"
      ],
      "execution_count": null,
      "outputs": []
    },
    {
      "cell_type": "code",
      "metadata": {
        "id": "QhtcIMvZOR3B"
      },
      "source": [
        "# https://colab.research.google.com/drive/1SyRrBAudJHiKjHnxXaZT5w_ukA0BmK9X?usp=sharing\n",
        "# Ensemble 모델 객체 지정\n",
        "class TabBertEnsemble(nn.Module):\n",
        "    def __init__(self, BERT_Module, TabNet_Module, MLP_Module):\n",
        "        super().__init__()\n",
        "        self.bert_model = BERT_Module\n",
        "        self.tabnet = TabNet_Module\n",
        "        self.classifier = MLP_Module\n",
        "\n",
        "    def forward(\n",
        "            self,\n",
        "            bert_x =None,\n",
        "            attention_mask=None,\n",
        "            token_type_ids=None,\n",
        "            tabnet_x = None\n",
        "    ):\n",
        "        bert_output = self.bert_model(bert_x,\n",
        "                                      token_type_ids=token_type_ids,\n",
        "                                      attention_mask=attention_mask)\n",
        "        \n",
        "        tabnet_output, M_loss = self.tabnet(tabnet_x)\n",
        "\n",
        "        # Bert [CLS] 토큰의 마지막 hidden layer와 Tabnet 결과를 concat하여 mlp로 전달\n",
        "        concated_output = torch.cat([bert_output[1], tabnet_output], dim=1)\n",
        "        final_output = self.classifier(concated_output)\n",
        "        return final_output"
      ],
      "execution_count": null,
      "outputs": []
    },
    {
      "cell_type": "code",
      "metadata": {
        "colab": {
          "base_uri": "https://localhost:8080/",
          "height": 191,
          "referenced_widgets": [
            "882b37417ceb4916b61ffffda429e2ec",
            "555b969df4524650992974c5d8709e6c",
            "bbe939f452b94943842f62e0c7a4c029",
            "c5806451341c48c3b0f206944aafe4c8",
            "5cca720a31454efab4e64d2159ad8ecc",
            "5e4dc542c74440c395bdce122b19a92d",
            "85cbbea91bfb43419841fd7a1068b4f0",
            "fde7a5a015014149acceaea5146c42fb",
            "3eb2205b0bdc404191c054df9d31b0e9",
            "c3f072d02dc840388b776b824dcee350",
            "4dfd2529275f4c81925208a73b49b4d7",
            "8170914a4acd474f98d0620d7d7fd0a8",
            "842d3063857049a581101863983708ee",
            "09acfc41bfbf4768a2ffee51a2112ea1",
            "1d05aa7e6db3466bbf5e2d530a7f50f4",
            "98a3e6ff7e9d41009951a07ebe37a31d"
          ]
        },
        "id": "2HHdhIgW5bpv",
        "outputId": "9d8539fe-8971-4f33-a114-12a5f96637db"
      },
      "source": [
        "# 각 객체 모듈 초기화\n",
        "bert_model = BERT_Module(BertModel)                         # 훈련시 attention 저장 비활성화\n",
        "\n",
        "tabnet_model = TabNet_Module(TabNet\n",
        "                             ,input_dim = tab_X.shape[1]\n",
        "                             ,output_dim = 768              # Bert Hidden layer 차원과 동일하게 output 차원 지정\n",
        "                             ,cat_idxs = cat_idxs\n",
        "                             ,cat_dims = cat_dims)\n",
        "\n",
        "MLP_cls = MLP_Module(input_dim = 768 * 2, num_class = 6)\n",
        "\n",
        "ensemble_model = TabBertEnsemble(BERT_Module = bert_model,\n",
        "                         TabNet_Module = tabnet_model,\n",
        "                         MLP_Module = MLP_cls)"
      ],
      "execution_count": null,
      "outputs": [
        {
          "output_type": "display_data",
          "data": {
            "application/vnd.jupyter.widget-view+json": {
              "model_id": "882b37417ceb4916b61ffffda429e2ec",
              "version_minor": 0,
              "version_major": 2
            },
            "text/plain": [
              "HBox(children=(FloatProgress(value=0.0, description='Downloading', max=625.0, style=ProgressStyle(description_…"
            ]
          },
          "metadata": {
            "tags": []
          }
        },
        {
          "output_type": "stream",
          "text": [
            "\n"
          ],
          "name": "stdout"
        },
        {
          "output_type": "display_data",
          "data": {
            "application/vnd.jupyter.widget-view+json": {
              "model_id": "3eb2205b0bdc404191c054df9d31b0e9",
              "version_minor": 0,
              "version_major": 2
            },
            "text/plain": [
              "HBox(children=(FloatProgress(value=0.0, description='Downloading', max=714314041.0, style=ProgressStyle(descri…"
            ]
          },
          "metadata": {
            "tags": []
          }
        },
        {
          "output_type": "stream",
          "text": [
            "\n"
          ],
          "name": "stdout"
        },
        {
          "output_type": "stream",
          "text": [
            "Some weights of the model checkpoint at bert-base-multilingual-cased were not used when initializing BertModel: ['cls.predictions.transform.LayerNorm.weight', 'cls.seq_relationship.bias', 'cls.predictions.transform.dense.bias', 'cls.predictions.decoder.weight', 'cls.predictions.transform.dense.weight', 'cls.predictions.bias', 'cls.seq_relationship.weight', 'cls.predictions.transform.LayerNorm.bias']\n",
            "- This IS expected if you are initializing BertModel from the checkpoint of a model trained on another task or with another architecture (e.g. initializing a BertForSequenceClassification model from a BertForPreTraining model).\n",
            "- This IS NOT expected if you are initializing BertModel from the checkpoint of a model that you expect to be exactly identical (initializing a BertForSequenceClassification model from a BertForSequenceClassification model).\n"
          ],
          "name": "stderr"
        }
      ]
    },
    {
      "cell_type": "markdown",
      "metadata": {
        "id": "BEl4mlUxu7kS"
      },
      "source": [
        "# Ensemble Network 학습"
      ]
    },
    {
      "cell_type": "code",
      "metadata": {
        "id": "cOIs7uXaOR29"
      },
      "source": [
        "# 옵티마이저 설정\n",
        "optimizer = AdamW(ensemble_model.parameters(),\n",
        "                  lr = 1e-5, # 학습률\n",
        "                  eps = 1e-8 # 0으로 나누는 것을 방지하기 위한 epsilon 값\n",
        "                )\n",
        "\n",
        "# loss func 설정\n",
        "criterion = nn.CrossEntropyLoss()\n",
        "\n",
        "# 에폭수\n",
        "epochs = 4\n",
        "\n",
        "# 총 훈련 스텝 : 배치반복 횟수 * 에폭\n",
        "total_steps = len(train_dataloader) * epochs\n",
        "\n",
        "# 학습률을 조금씩 감소시키는 스케줄러 생성\n",
        "scheduler = get_linear_schedule_with_warmup(optimizer, \n",
        "                                            num_warmup_steps = 0,\n",
        "                                            num_training_steps = total_steps)"
      ],
      "execution_count": null,
      "outputs": []
    },
    {
      "cell_type": "code",
      "metadata": {
        "id": "Zvva9jmt_DRn"
      },
      "source": [
        "# 시간 표시 함수\n",
        "def format_time(elapsed):\n",
        "\n",
        "    # 반올림\n",
        "    elapsed_rounded = int(round((elapsed)))\n",
        "\n",
        "    # hh:mm:ss으로 형태 변경\n",
        "    return str(datetime.timedelta(seconds=elapsed_rounded))"
      ],
      "execution_count": null,
      "outputs": []
    },
    {
      "cell_type": "code",
      "metadata": {
        "id": "wYsZBavt4Lho"
      },
      "source": [
        "# GPU 체크\n",
        "print(torch.cuda.is_available())\n",
        "device_num = torch.cuda.current_device()\n",
        "ensemble_model.cuda(device_num)"
      ],
      "execution_count": null,
      "outputs": []
    },
    {
      "cell_type": "code",
      "metadata": {
        "id": "r0PuhLydOR3C"
      },
      "source": [
        "print(\"======== Begin training ========\")\n",
        "print(\"\")\n",
        "\n",
        "# 재현을 위해 랜덤시드 고정\n",
        "seed_val = 42\n",
        "random.seed(seed_val)\n",
        "np.random.seed(seed_val)\n",
        "torch.manual_seed(seed_val)\n",
        "torch.cuda.manual_seed_all(seed_val)\n",
        "\n",
        "# 성능 지표 초기화\n",
        "loss_stats = {'train':[],'val':[]}\n",
        "accuracy_stats = {'train':[],'val':[]}\n",
        "recall_stats = {'train':[],'val':[]}\n",
        "precision_stats = {'train':[],'val':[]}\n",
        "\n",
        "ensemble_model.zero_grad() # 그래디언트 초기화\n",
        "\n",
        "for e in tqdm(range(1, epochs+1)):\n",
        "    # ========================================\n",
        "    #               Training\n",
        "    # ========================================\n",
        "\n",
        "    # Epoch 훈련 성능 지표 초기화\n",
        "    train_epoch_loss = 0\n",
        "    train_epoch_accuracy = 0\n",
        "    train_epoch_recall = 0\n",
        "    train_epoch_precision = 0\n",
        "\n",
        "    t0 = time.time()                                        # 시작 시간 설정\n",
        "\n",
        "    ensemble_model.train()                                  # 훈련모드로 변경\n",
        "\n",
        "    for i, train_batch in enumerate(train_dataloader):      # 텍스트, 정형 데이터 로더 동시 진행\n",
        "        # 배치를 GPU에 넣음\n",
        "        train_batch = tuple(t.cuda(device_num) for t in train_batch)\n",
        "        train_text_data, train_attention_mask, train_labels, train_tab_data = train_batch\n",
        "        optimizer.zero_grad()                               # 그래디언트 초기화\n",
        "\n",
        "        y_train_pred = ensemble_model(bert_x = train_text_data,\n",
        "                              attention_mask = train_attention_mask,\n",
        "                              tabnet_x = train_tab_data)\n",
        "        # print(np.shape(y_train_pred))\n",
        "        # print(np.shape(train_labels))\n",
        "        train_loss = criterion(y_train_pred, train_labels)  # 로스 산출\n",
        "        \n",
        "        train_loss.backward()                               # 로스 기반으로 gradient 계산\n",
        "        optimizer.step()                                    # 역전파 수행\n",
        "        \n",
        "        train_epoch_loss += train_loss.item()               # 배치내 로스 합산\n",
        "\n",
        "        # 분류별 훈련단계 평균 모델 성능치 계산\n",
        "        _, train_predictions = torch.max(y_train_pred, 1)\n",
        "        # 예측값과 실제값을 CPU로 이동 후 성능 계산\n",
        "        train_predictions = train_predictions.cpu().detach().numpy()\n",
        "        train_labels = train_labels.cpu().detach().numpy()\n",
        "        train_epoch_accuracy += accuracy_score(train_labels, train_predictions)\n",
        "        train_epoch_recall += recall_score(train_labels, train_predictions, average='macro', zero_division = 0)\n",
        "        train_epoch_precision += precision_score(train_labels, train_predictions, average='macro', zero_division = 0)\n",
        "        \n",
        "    # ========================================\n",
        "    #               Validation\n",
        "    # ========================================   \n",
        "    with torch.no_grad(): # 검증 단계는 gradient 비활성화\n",
        "        # Epoch 검증 성능 지표 초기화\n",
        "        val_epoch_loss = 0\n",
        "        val_epoch_accuracy = 0\n",
        "        val_epoch_recall = 0\n",
        "        val_epoch_precision = 0\n",
        "        \n",
        "        ensemble_model.eval()                                # 검증모드로 변경\n",
        "\n",
        "        for i, val_batch in enumerate(val_dataloader):\n",
        "            # 배치를 GPU에 넣음\n",
        "            val_batch = tuple(t.cuda(device_num) for t in val_batch)\n",
        "            val_text_data, val_attention_mask, val_labels, val_tab_data = val_batch\n",
        "            \n",
        "            y_val_pred = ensemble_model(bert_x = val_text_data,\n",
        "                                attention_mask = val_attention_mask,\n",
        "                                tabnet_x = val_tab_data)\n",
        "                        \n",
        "            val_loss = criterion(y_val_pred, val_labels)    # 로스 산출\n",
        "            \n",
        "            val_epoch_loss += val_loss.item()               # 배치내 로스 합산\n",
        "\n",
        "            # 분류별 검증단계 평균 모델 성능치 계산\n",
        "            _, val_predictions = torch.max(y_val_pred, 1)\n",
        "            # 예측값과 실제값을 CPU로 이동 후 성능 계산\n",
        "            val_predictions = val_predictions.cpu().detach().numpy()\n",
        "            val_labels = val_labels.cpu().detach().numpy()\n",
        "            val_epoch_accuracy += accuracy_score(val_labels, val_predictions)\n",
        "            val_epoch_recall += recall_score(val_labels, val_predictions, average='macro', zero_division = 0)\n",
        "            val_epoch_precision += precision_score(val_labels, val_predictions, average='macro', zero_division = 0)\n",
        "\n",
        "    # Epoch내 모델 성능 종합\n",
        "    loss_stats['train'].append(train_epoch_loss/len(train_loader))\n",
        "    loss_stats['val'].append(val_epoch_loss/len(val_loader))\n",
        "    accuracy_stats['train'].append(train_epoch_accuracy/len(train_loader))\n",
        "    accuracy_stats['val'].append(val_epoch_accuracy/len(val_loader))\n",
        "    recall_stats['train'].append(train_epoch_recall/len(train_loader))\n",
        "    recall_stats['val'].append(val_epoch_recall/len(val_loader))\n",
        "    precision_stats['train'].append(train_epoch_precision/len(train_loader))\n",
        "    precision_stats['val'].append(val_epoch_precision/len(val_loader))\n",
        "    \n",
        "    end_time = time.time()\n",
        "    print(f'Epoch {e+0:03} elapsed time {format_time(end_time - t0)}: | Train Loss: {train_epoch_loss/len(train_dataloader):.5f} | Val Loss: {val_epoch_loss/len(val_loader):.5f} | Train Accuracy: {train_epoch_accuracy/len(train_loader):.3f}| Val Accuracy: {val_epoch_accuracy/len(val_loader):.3f} | Train Recall: {train_epoch_recall/len(train_loader):.3f}| Val Accuracy: {val_epoch_recall/len(val_loader):.3f} | Train Precision: {train_epoch_precision/len(train_loader):.3f}| Val Accuracy: {val_epoch_precision/len(val_loader):.3f} |')\n",
        "\n",
        "print(\"\")\n",
        "print(\"======== Training complete! ========\")"
      ],
      "execution_count": null,
      "outputs": []
    },
    {
      "cell_type": "markdown",
      "metadata": {
        "id": "mPxbi9Dgu-6X"
      },
      "source": [
        "# Attention 추출 및 테스트셋 예측"
      ]
    },
    {
      "cell_type": "code",
      "metadata": {
        "id": "HaUaAmgWuJ1A"
      },
      "source": [
        "# Attention 추출 활성화\n",
        "bert_model = BERT_Module(BertModel, out_attention=True) # 저장 된 Bert 모델 불러온 후, attention 저장 활성화\n",
        "bert_model.cuda(device_num)\n",
        "tabnet_model.cuda(device_num)"
      ],
      "execution_count": null,
      "outputs": []
    },
    {
      "cell_type": "code",
      "metadata": {
        "id": "5uGKMdC0ojJA",
        "colab": {
          "base_uri": "https://localhost:8080/"
        },
        "outputId": "31c2b474-57cb-43c6-d21e-aebf7ce687b7"
      },
      "source": [
        "bert_attention_result = []\n",
        "for i, batch in enumerate(train_dataloader):\n",
        "    batch = tuple(t.cuda(device_num) for t in batch[:2])\n",
        "    train_text_data, train_attention_mask, train_labels, _ = batch\n",
        "    bert_output = bert_model(input_ids = train_text_data, attention_mask = train_attention_mask)\n",
        "    bert_attention_result.append(bert_output[-1][-1][:,0,:,0].cpu().detach().numpy()) # 마지막 layer의 마지막 attention head의 [cls] token attention 추출\n",
        "bert_attention_result = np.vstack(bert_attention_result)\n",
        "print(np.shape(bert_attention_result))"
      ],
      "execution_count": null,
      "outputs": [
        {
          "output_type": "stream",
          "text": [
            "(240, 256)\n"
          ],
          "name": "stdout"
        }
      ]
    },
    {
      "cell_type": "code",
      "metadata": {
        "colab": {
          "base_uri": "https://localhost:8080/"
        },
        "id": "bZVPf7lTkA2x",
        "outputId": "8265c40e-f7ca-4414-8dc5-557ddab671a1"
      },
      "source": [
        "# TabNet Attention 추출\n",
        "res_explain = []\n",
        "res_masks = None\n",
        "for i, batch in enumerate(train_dataloader):\n",
        "    train_tab_data = batch[3].cuda(device_num)\n",
        "    res_explain, res_masks = tabnet_model.forward_tab_masks(train_tab_data, batch_nb = i, res_explain = res_explain, res_masks = res_masks)\n",
        "res_explain = np.vstack(res_explain)\n",
        "print(np.shape(res_explain))"
      ],
      "execution_count": null,
      "outputs": [
        {
          "output_type": "stream",
          "text": [
            "(240, 6)\n"
          ],
          "name": "stdout"
        }
      ]
    },
    {
      "cell_type": "markdown",
      "metadata": {
        "id": "-s35a9_Yj-jw"
      },
      "source": [
        "## Multi GPU Code sample"
      ]
    },
    {
      "cell_type": "code",
      "metadata": {
        "id": "TkiJyYjIOR3D"
      },
      "source": [
        "model = Model(input_size, output_size)\n",
        "if torch.cuda.device_count() > 1:\n",
        "    print(\"Let's use\", torch.cuda.device_count(), \"GPUs!\")\n",
        "    # dim = 0 [30, xxx] -> [10, ...], [10, ...], [10, ...] on 3 GPUs\n",
        "    model = nn.DataParallel(model)\n",
        "\n",
        "model.to(device)\n",
        "\n",
        "for data in rand_loader:\n",
        "    input = data.to(device)\n",
        "    output = model(input)\n",
        "    print(\"Outside: input size\", input.size(),\n",
        "          \"output_size\", output.size())"
      ],
      "execution_count": null,
      "outputs": []
    },
    {
      "cell_type": "code",
      "metadata": {
        "id": "xk2kuWc8OR3D"
      },
      "source": [
        "import torch.distributed as dist\n",
        "from torch.nn.parallel import DistributedDataParallel\n",
        "\n",
        "\n",
        "def main():\n",
        "    args = parser.parse_args()\n",
        "\n",
        "    ngpus_per_node = torch.cuda.device_count()\n",
        "    args.world_size = ngpus_per_node * args.world_size\n",
        "    mp.spawn(main_worker, nprocs=ngpus_per_node, \n",
        "             args=(ngpus_per_node, args))\n",
        "    \n",
        "    \n",
        "def main_worker(gpu, ngpus_per_node, args):\n",
        "    global best_acc1\n",
        "    args.gpu = gpu\n",
        "    torch.cuda.set_device(args.gpu)\n",
        "    \n",
        "    print(\"Use GPU: {} for training\".format(args.gpu))\n",
        "    args.rank = args.rank * ngpus_per_node + gpu\n",
        "    dist.init_process_group(backend='nccl', \n",
        "                            init_method='tcp://127.0.0.1:FREEPORT',\n",
        "                            world_size=args.world_size, \n",
        "                            rank=args.rank)\n",
        "    \n",
        "    model = Bert()\n",
        "    model.cuda(args.gpu)\n",
        "    model = DistributedDataParallel(model, device_ids=[args.gpu])\n",
        "\n",
        "    acc = 0\n",
        "    for i in range(args.num_epochs):\n",
        "        model = train(model)\n",
        "        acc = test(model, acc)\n",
        "        \n",
        "        \n",
        "\n",
        "from torch.utils.data.distributed import DistributedSampler\n",
        "\n",
        "train_dataset = datasets.ImageFolder(traindir, ...)\n",
        "train_sampler = DistributedSampler(train_dataset)\n",
        "\n",
        "train_loader = torch.utils.data.DataLoader(\n",
        "    train_dataset, batch_size=args.batch_size, shuffle=False,\n",
        "    num_workers=args.workers, pin_memory=True, sampler=train_sampler)"
      ],
      "execution_count": null,
      "outputs": []
    },
    {
      "cell_type": "code",
      "metadata": {
        "id": "t_TGinpjjZep"
      },
      "source": [
        ""
      ],
      "execution_count": null,
      "outputs": []
    }
  ]
}